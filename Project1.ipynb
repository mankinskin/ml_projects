{
 "cells": [
  {
   "cell_type": "markdown",
   "metadata": {
    "id": "gfUt7BmNzkIx"
   },
   "source": [
    "# Project 1: First steps in Machine Learning (40 Points)\n",
    "In this project, you will train and test your first machine learning models. Please follow the **TODO**s in this notebook. There are practical and theoretical tasks to do.<br>\n",
    "When working on the tasks please consider the following information:\n",
    "* write short texts in **full sentences** answering the TODOs. Note, that analyzing the theoratical parts of the project give roughly 2/3 of all points\n",
    "* when describing classifiers explain at least the training, testing, and the hyper-parameters\n",
    "* always train your models using the given training sets\n",
    "* evaluate the models using the given test sets\n",
    "* have a look at all imports in this notebook; they already define which method you should use\n",
    "\n",
    "You should work in a group of 3. Please enter your names and your TA here.<br>\n",
    "Students:<br>\n",
    "TA:\n",
    "\n",
    "On Monday, **7th December**, there will be a Q&A session in the tutorials! Start to work on this project from now on and take the offer to resolve any remaining ambiguity.\n",
    "This assignment is due on **Sunday, 29.11.2020 11:59pm**. Please upload your solution to the Lernraum+.<br>\n",
    " For a submission you need to be part of a assignment group."
   ]
  },
  {
   "cell_type": "markdown",
   "metadata": {
    "id": "HCypy1U8zkI0"
   },
   "source": [
    "## kNN - Classifier"
   ]
  },
  {
   "cell_type": "code",
   "execution_count": 21,
   "metadata": {
    "id": "197KcJbGzkI3"
   },
   "outputs": [],
   "source": [
    "import numpy as np\n",
    "# load dataset 1\n",
    "data_set = np.load('dataset_1.npz')\n",
    "X_train = data_set['X_train']\n",
    "X_test = data_set['X_test']\n",
    "y_train = data_set['y_train']\n",
    "y_test = data_set['y_test']"
   ]
  },
  {
   "cell_type": "markdown",
   "metadata": {},
   "source": [
    "### The first dataset"
   ]
  },
  {
   "cell_type": "code",
   "execution_count": 25,
   "metadata": {
    "id": "Pp0Fida7zkJA"
   },
   "outputs": [
    {
     "name": "stdout",
     "output_type": "stream",
     "text": [
      "data_set labels: ['X_train', 'X_test', 'y_train', 'y_test']\n",
      "\n",
      "X_train Count: 1072\n",
      "X_test Count: 528\n",
      "y_train Count: 536\n",
      "y_test Count: 264\n",
      "\n",
      "X_train Shape: (536, 2)\n",
      "X_test Shape: (264, 2)\n",
      "y_train Shape: (536,)\n",
      "y_test Shape: (264,)\n",
      "\n"
     ]
    }
   ],
   "source": [
    "# TODO: take a closer look at the dataset, e.g. number of samples, dimensionality, labels, etc.\n",
    "print('data_set labels: {}\\n'\n",
    "      .format(list(data_set.keys())))\n",
    "print('X_train Count: {}\\nX_test Count: {}\\ny_train Count: {}\\ny_test Count: {}\\n'\n",
    "      .format(X_train.size, X_test.size, y_train.size, y_test.size))\n",
    "print('X_train Shape: {}\\nX_test Shape: {}\\ny_train Shape: {}\\ny_test Shape: {}\\n'\n",
    "      .format(X_train.shape, X_test.shape, y_train.shape, y_test.shape))\n"
   ]
  },
  {
   "cell_type": "markdown",
   "metadata": {},
   "source": [
    "**TODO:** Describe the data"
   ]
  },
  {
   "cell_type": "markdown",
   "metadata": {
    "id": "j-G-3Qj8zkJH"
   },
   "source": [
    "### the Model\n",
    "\n",
    "**TODO:** Describe the kNN classifier"
   ]
  },
  {
   "cell_type": "code",
   "execution_count": null,
   "metadata": {
    "id": "yoR7mM5o81n-"
   },
   "outputs": [],
   "source": [
    "# TODO: train a kNN classifier with k=5 on the training set and test it with the test set\n",
    "\n",
    "from sklearn.neighbors import KNeighborsClassifier\n",
    "from sklearn.metrics import accuracy_score"
   ]
  },
  {
   "cell_type": "markdown",
   "metadata": {},
   "source": [
    "**TODO:** Report your results."
   ]
  },
  {
   "cell_type": "code",
   "execution_count": null,
   "metadata": {
    "id": "FY4-FS3LzkJI"
   },
   "outputs": [],
   "source": [
    "# TODO: train and test the kNN classifier for different values of k on dataset 1.\n",
    "#       Plot the accuracy for different values of k. Choose usefull lower and upper bounds for k.\n",
    "import matplotlib.pyplot as plt\n"
   ]
  },
  {
   "cell_type": "markdown",
   "metadata": {
    "id": "hoj8y_WWzkJQ"
   },
   "source": [
    "**TODO:** Answer the following questions in a **full text**.\n",
    "\n",
    "* Describe your choice of values of k. Why did you choose them?\n",
    "* For which values of k does the model perform best?\n",
    "* Would this value perform best on another dataset as well?\n",
    "* How can k be choosen?\n",
    "* What is the smallest and the greatest possible value for k? What would happen if we would choose these special values?"
   ]
  },
  {
   "cell_type": "markdown",
   "metadata": {
    "id": "qxex3z5tzkJR"
   },
   "source": [
    "## Logistic Regression\n",
    "Let's try another model as well.\n",
    "\n",
    "### the Dataset"
   ]
  },
  {
   "cell_type": "code",
   "execution_count": null,
   "metadata": {
    "id": "WhB-OKu6zkJS"
   },
   "outputs": [],
   "source": [
    "# TODO: load dataset_2.npz and analyze the dataset"
   ]
  },
  {
   "cell_type": "markdown",
   "metadata": {
    "id": "yr-DXalVA60W"
   },
   "source": [
    "**TODO:** Describe the data"
   ]
  },
  {
   "cell_type": "markdown",
   "metadata": {
    "id": "dygg6SnkzkJX"
   },
   "source": [
    "### the Model\n",
    "\n",
    "**TODO:** Describe the logistic regression model"
   ]
  },
  {
   "cell_type": "code",
   "execution_count": null,
   "metadata": {
    "id": "_nBBLXJMBSqI"
   },
   "outputs": [],
   "source": [
    "# TODO: train and test logistic regression on dataset_2.npz (using the training and test set),\n",
    "# plot the dataset and the decision boundary, own implementation needed (see lecture slide 51 in slides1.pdf)\n",
    "\n",
    "from sklearn.linear_model import LogisticRegression\n"
   ]
  },
  {
   "cell_type": "markdown",
   "metadata": {},
   "source": [
    "**TODO:** Report your results."
   ]
  },
  {
   "cell_type": "code",
   "execution_count": null,
   "metadata": {},
   "outputs": [],
   "source": [
    "# TODO: Check whether w separates the two classes.\n",
    "#       How does the negative log-likelihood (NLL) change for αw as α goes to infinity?\n",
    "#\n",
    "# Hint: Implement an own function which computes the NLL for a new w, and report the NLL for different values."
   ]
  },
  {
   "cell_type": "markdown",
   "metadata": {},
   "source": [
    "**TODO:** What can you infer from your observations regarding the training of a model?"
   ]
  },
  {
   "cell_type": "markdown",
   "metadata": {},
   "source": [
    "### thoeretical considerations\n",
    "\n",
    "**TODO:** Prove that \n",
    "\n",
    "$$\\lim_{\\alpha\\to\\infty}-\\log\\left(P\\left(\\left.\\mathcal{D}\\right|\\vec{w}\\right)\\right)=0$$\n",
    "if $\\vec{w}$ splits the data perfectly where $\\mathcal{D}$ represents the data.\n",
    "\n",
    "**Hint:** You can analyze both cases, y=0 and y=1, and find a limit of the likelihood for one sample. Then, calculate the limit of the negative log-likelihood.\n"
   ]
  },
  {
   "cell_type": "markdown",
   "metadata": {
    "id": "edHXCg-IzkJg"
   },
   "source": [
    "## Comparing kNN and Logistic Regression\n",
    "Finally, we want you to compare the kNN and the logistic regression classifier."
   ]
  },
  {
   "cell_type": "code",
   "execution_count": null,
   "metadata": {
    "id": "aOIj3_vUzkJh"
   },
   "outputs": [],
   "source": [
    "# TODO: train both kNN and logistic regression on the training set for both datasets.\n",
    "#       Evaluate the models using the respective test set.\n",
    "# Plot the data and the decision boundary of the classifiers. plot_2d_decisionboundary() in utils.py can be used.\n",
    "\n",
    "from utils import plot_2d_decisionboundary\n",
    "from utils import plot_classification_dataset\n"
   ]
  },
  {
   "cell_type": "markdown",
   "metadata": {
    "id": "ANBVeSXjzkJn"
   },
   "source": [
    "**TODO:** Describe your results and analyze them: Is one model performing better than the other? Is there a difference in the datasets causing this behavior?"
   ]
  }
 ],
 "metadata": {
  "colab": {
   "collapsed_sections": [
    "HCypy1U8zkI0",
    "qxex3z5tzkJR",
    "edHXCg-IzkJg"
   ],
   "name": "Copy of Project1.ipynb",
   "provenance": []
  },
  "kernelspec": {
   "display_name": "Python 3",
   "language": "python",
   "name": "python3"
  },
  "language_info": {
   "codemirror_mode": {
    "name": "ipython",
    "version": 3
   },
   "file_extension": ".py",
   "mimetype": "text/x-python",
   "name": "python",
   "nbconvert_exporter": "python",
   "pygments_lexer": "ipython3",
   "version": "3.8.6"
  }
 },
 "nbformat": 4,
 "nbformat_minor": 1
}
