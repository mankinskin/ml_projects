{
 "cells": [
  {
   "cell_type": "markdown",
   "metadata": {},
   "source": [
    "# Project 2: Evaluation is key (40 Points)\n",
    "In this project, you we will focus on how to evaluate our machine learning models. Please follow the **TODO**s in this notebook. There are practical and theoretical tasks to do.<br>\n",
    "When working on the tasks please consider the following information:\n",
    "* write short texts in **full sentences** answering the TODOs. Note, that analyzing the theoratical parts of the project give roughly 2/3 of all points\n",
    "* please note that the course language is **English**. German hand-ins are not graded. However, don't worry: we will not substract any points for errors regarding language as long as your report is understandable. \n",
    "* when describing classifiers explain at least the training, testing, and the hyper-parameters\n",
    "* you can use all functions from the sklearn tool box (if not stated otherwise)\n",
    "* **analyzing** means: pointing out differences and similarities and looking for possible reasons\n",
    "* throughout this project use **cross-validation** for splitting up the data for training and testing. More precisely follow the visualizations on slide 12 in slides 2 to split the data. For each split train on the training subsets and test on the test subset. Then average your test results. Following this procedure, your overall results are not dependent on one train-test split and therefore more convincing.\n",
    "\n",
    "You should work in a group of 3. Please enter your names and your TA here.<br>\n",
    "Students:<br>\n",
    "TA:\n",
    "\n",
    "On Monday, **14th December**, there will be a Q&A session in the tutorials! Start to work on this project from now on and take the offer to resolve any remaining ambiguity.\n",
    "This assignment is due on **Sunday, 03.01.2021 11:59pm**. Please upload your solution to the Lernraum+.<br>\n",
    "For a submission you need to be part of a assignment group."
   ]
  },
  {
   "cell_type": "markdown",
   "metadata": {},
   "source": [
    "## Classification Metrics\n",
    "\n",
    "**TODO:** By now you learned more about evaluation. Please define cross-validation and applied it to all following tasks."
   ]
  },
  {
   "cell_type": "code",
   "execution_count": null,
   "metadata": {},
   "outputs": [],
   "source": [
    "# TODO: load dataset 1"
   ]
  },
  {
   "cell_type": "markdown",
   "metadata": {},
   "source": [
    "**TODO:** Describe the Naive Bayes classifier. Why is it called naive?"
   ]
  },
  {
   "cell_type": "code",
   "execution_count": null,
   "metadata": {},
   "outputs": [],
   "source": [
    "# TODO: train a kNN, Logistic Regression, and a Naive Bayes classifier on the dataset. Report the accuracies."
   ]
  },
  {
   "cell_type": "markdown",
   "metadata": {},
   "source": [
    "**TODO:** Describe why the accuracy is not always suitable for evaluating a model's classification performace. Briefly define the alternative metrics from the lecture, and explain in which cases they are more suitable."
   ]
  },
  {
   "cell_type": "code",
   "execution_count": null,
   "metadata": {},
   "outputs": [],
   "source": [
    "# TODO: analyze the dataset; focus on possible reasons for why you might want to apply the metrics described above"
   ]
  },
  {
   "cell_type": "code",
   "execution_count": null,
   "metadata": {},
   "outputs": [],
   "source": [
    "# TODO: reevalute your trained models with the metrics you described above.\n",
    "# Visualize the confusion matrices for all classifiers"
   ]
  },
  {
   "cell_type": "markdown",
   "metadata": {},
   "source": [
    "**TODO:** Describe and analyze your findings. Keep in mind your investigation of the dataset."
   ]
  },
  {
   "cell_type": "markdown",
   "metadata": {},
   "source": [
    "## Additional Steps required"
   ]
  },
  {
   "cell_type": "code",
   "execution_count": null,
   "metadata": {},
   "outputs": [],
   "source": [
    "#TODO: Train all three classifiers on the second data set"
   ]
  },
  {
   "cell_type": "markdown",
   "metadata": {},
   "source": [
    "**TODO:** Analyze the second data set and your results."
   ]
  },
  {
   "cell_type": "markdown",
   "metadata": {},
   "source": [
    "### Standardized data sets\n",
    "\n",
    "A data set $ \\{\\vec{x}_i \\mid i\\in\\{1,\\dots n\\} \\}\\;\\vec{x}_i \\in \\mathbb{R}^{d} $ consisting of $ n $ samples is called *standardized* if each feature $ j $ has zero mean and unit variance. Thus:\n",
    "\n",
    "$$\n",
    "\\mu_j = \\frac{1}{n}\\sum_i (\\vec{x}_i)_j = 0 \\quad \\text{ and }\n",
    "\\sigma^2_j = \\frac{1}{n}\\sum_i \\Big( (\\vec{x}_i)_j - \\mu_j\\Big)^2 = 1 \\quad \\forall\\, j\\in\\{1,\\dots,d\\}.\n",
    "$$\n",
    "\n",
    "**Prove** that the following transformation scales a data set into a standardized one\n",
    "$$(\\vec{x}'_i)_j = \\frac{(\\vec{x}_i)_j - \\mu_j}{\\sigma_j}.$$"
   ]
  },
  {
   "cell_type": "code",
   "execution_count": null,
   "metadata": {},
   "outputs": [],
   "source": [
    "#TODO: Try this in practice,\n",
    "#      retrain and test the models on the standardized dataset"
   ]
  },
  {
   "cell_type": "markdown",
   "metadata": {},
   "source": [
    "**TODO:** Analyze your results."
   ]
  }
 ],
 "metadata": {
  "kernelspec": {
   "display_name": "Python 3",
   "language": "python",
   "name": "python3"
  },
  "language_info": {
   "codemirror_mode": {
    "name": "ipython",
    "version": 3
   },
   "file_extension": ".py",
   "mimetype": "text/x-python",
   "name": "python",
   "nbconvert_exporter": "python",
   "pygments_lexer": "ipython3",
   "version": "3.8.5"
  }
 },
 "nbformat": 4,
 "nbformat_minor": 4
}
